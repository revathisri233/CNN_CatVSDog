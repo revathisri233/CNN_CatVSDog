{
  "nbformat": 4,
  "nbformat_minor": 0,
  "metadata": {
    "colab": {
      "provenance": []
    },
    "kernelspec": {
      "name": "python3",
      "display_name": "Python 3"
    },
    "language_info": {
      "name": "python"
    }
  },
  "cells": [
    {
      "cell_type": "markdown",
      "source": [
        "# Cat Vs Dogs prediction using Convolutional Neural Networks"
      ],
      "metadata": {
        "id": "40h3woYJ62U5"
      }
    },
    {
      "cell_type": "markdown",
      "source": [
        "Import librarries"
      ],
      "metadata": {
        "id": "8ecgxek56gmU"
      }
    },
    {
      "cell_type": "code",
      "source": [
        "import numpy as np\n",
        "import pandas as pd\n",
        "import matplotlib.pyplot as plt\n",
        "from keras.models import Sequential\n",
        "from keras.layers import Convolution2D\n",
        "from keras.layers import MaxPooling2D\n",
        "from keras.layers import Dense\n",
        "from keras.layers import Flatten\n",
        "import os\n",
        "import tensorflow as tf"
      ],
      "metadata": {
        "id": "Df8aNui465yR"
      },
      "execution_count": null,
      "outputs": []
    },
    {
      "cell_type": "code",
      "source": [
        "_URL = 'https://storage.googleapis.com/mledu-datasets/cats_and_dogs_filtered.zip'\n",
        "\n",
        "path_to_zip = tf.keras.utils.get_file('cats_and_dogs.zip', origin=_URL, extract=True)\n",
        "\n",
        "PATH = os.path.join(os.path.dirname(path_to_zip), 'cats_and_dogs_filtered')"
      ],
      "metadata": {
        "colab": {
          "base_uri": "https://localhost:8080/"
        },
        "id": "QUcSl_l-9e3o",
        "outputId": "3c9bd35f-f037-453c-db7d-50c4e8d626ef"
      },
      "execution_count": null,
      "outputs": [
        {
          "output_type": "stream",
          "name": "stdout",
          "text": [
            "Downloading data from https://storage.googleapis.com/mledu-datasets/cats_and_dogs_filtered.zip\n",
            "68608000/68606236 [==============================] - 0s 0us/step\n",
            "68616192/68606236 [==============================] - 0s 0us/step\n"
          ]
        }
      ]
    },
    {
      "cell_type": "code",
      "source": [
        "# Dividing the data into train and validation set\n",
        "train_dir = os.path.join(PATH, 'train')\n",
        "validation_dir = os.path.join(PATH, 'validation')"
      ],
      "metadata": {
        "id": "vIMdq4tz_2mW"
      },
      "execution_count": null,
      "outputs": []
    },
    {
      "cell_type": "code",
      "source": [
        "# Dividing again into cat and dogs directories\n",
        "train_cats_dir = os.path.join(train_dir, 'cats')  # directory with our training cat pictures\n",
        "train_dogs_dir = os.path.join(train_dir, 'dogs')  # directory with our training dog pictures\n",
        "validation_cats_dir = os.path.join(validation_dir, 'cats')  # directory with our validation cat pictures\n",
        "validation_dogs_dir = os.path.join(validation_dir, 'dogs')  # directory with our validation dog pictures"
      ],
      "metadata": {
        "id": "Kr80VoIwADrE"
      },
      "execution_count": null,
      "outputs": []
    },
    {
      "cell_type": "code",
      "source": [
        "# Let's see how much data we have\n",
        "num_cats_tr = len(os.listdir(train_cats_dir))\n",
        "num_dogs_tr = len(os.listdir(train_dogs_dir))\n",
        "\n",
        "num_cats_val = len(os.listdir(validation_cats_dir))\n",
        "num_dogs_val = len(os.listdir(validation_dogs_dir))\n",
        "\n",
        "total_train = num_cats_tr + num_dogs_tr\n",
        "total_val = num_cats_val + num_dogs_val"
      ],
      "metadata": {
        "id": "ypZaT2RwALRA"
      },
      "execution_count": null,
      "outputs": []
    },
    {
      "cell_type": "code",
      "source": [
        "print('total training cat images:', num_cats_tr)\n",
        "print('total training dog images:', num_dogs_tr)\n",
        "\n",
        "print('total validation cat images:', num_cats_val)\n",
        "print('total validation dog images:', num_dogs_val)\n",
        "\n",
        "print(\"Total training images:\", total_train)\n",
        "print(\"Total validation images:\", total_val)"
      ],
      "metadata": {
        "colab": {
          "base_uri": "https://localhost:8080/"
        },
        "id": "IF3xlowbAWM5",
        "outputId": "94fa86eb-d31e-4e0d-e2d7-12919c43f72e"
      },
      "execution_count": null,
      "outputs": [
        {
          "output_type": "stream",
          "name": "stdout",
          "text": [
            "total training cat images: 1000\n",
            "total training dog images: 1000\n",
            "total validation cat images: 500\n",
            "total validation dog images: 500\n",
            "Total training images: 2000\n",
            "Total validation images: 1000\n"
          ]
        }
      ]
    },
    {
      "cell_type": "code",
      "source": [
        "#Setting up variables to use while pre-processing the dataset and training the network\n",
        "batch_size = 128\n",
        "epochs = 15 #Iterations\n",
        "IMG_HEIGHT = 150\n",
        "IMG_WIDTH = 150"
      ],
      "metadata": {
        "id": "f4QM86e7AhGX"
      },
      "execution_count": null,
      "outputs": []
    },
    {
      "cell_type": "code",
      "source": [
        "train_image_generator = ImageDataGenerator(rescale=1./255) # Generator for our training data and rescaling \n",
        "validation_image_generator = ImageDataGenerator(rescale=1./255) # Generator for our validation data"
      ],
      "metadata": {
        "id": "Y0al0vDFAly3"
      },
      "execution_count": null,
      "outputs": []
    },
    {
      "cell_type": "code",
      "source": [
        "train_data_gen = train_image_generator.flow_from_directory(batch_size=batch_size,\n",
        "                                                           directory=train_dir,\n",
        "                                                           shuffle=True,\n",
        "                                                           target_size=(IMG_HEIGHT, IMG_WIDTH),\n",
        "                                                           class_mode='binary')"
      ],
      "metadata": {
        "colab": {
          "base_uri": "https://localhost:8080/"
        },
        "id": "sksbyPC_Ar6p",
        "outputId": "ec71b3a6-9b88-4fc3-abab-c64802694e23"
      },
      "execution_count": null,
      "outputs": [
        {
          "output_type": "stream",
          "name": "stdout",
          "text": [
            "Found 2000 images belonging to 2 classes.\n"
          ]
        }
      ]
    },
    {
      "cell_type": "code",
      "source": [
        "val_data_gen = validation_image_generator.flow_from_directory(batch_size=batch_size,\n",
        "                                                              directory=validation_dir,\n",
        "                                                              target_size=(IMG_HEIGHT, IMG_WIDTH),\n",
        "                                                              class_mode='binary')"
      ],
      "metadata": {
        "colab": {
          "base_uri": "https://localhost:8080/"
        },
        "id": "RTjAdMqoA0t9",
        "outputId": "7e986baa-7a5a-4f11-9af9-88cf48a2c04c"
      },
      "execution_count": null,
      "outputs": [
        {
          "output_type": "stream",
          "name": "stdout",
          "text": [
            "Found 1000 images belonging to 2 classes.\n"
          ]
        }
      ]
    },
    {
      "cell_type": "code",
      "source": [
        "# Initalising CNN\n",
        "model = Sequential()"
      ],
      "metadata": {
        "id": "icY6sJRUA85J"
      },
      "execution_count": null,
      "outputs": []
    },
    {
      "cell_type": "code",
      "source": [
        "model = Sequential([\n",
        "    Convolution2D(16, 3, padding='same', activation='relu', input_shape=(IMG_HEIGHT, IMG_WIDTH ,3)),\n",
        "    MaxPooling2D(),\n",
        "    Convolution2D(32, 3, padding='same', activation='relu'),\n",
        "    MaxPooling2D(),\n",
        "    Convolution2D(64, 3, padding='same', activation='relu'),\n",
        "    MaxPooling2D(),\n",
        "    Flatten(),\n",
        "    Dense(512, activation='relu'),\n",
        "    Dense(1)\n",
        "])"
      ],
      "metadata": {
        "id": "9LKOUnoWBGfn"
      },
      "execution_count": null,
      "outputs": []
    },
    {
      "cell_type": "markdown",
      "source": [
        "Adam Optimiser for compilin CNN and Binary cross entropy for loss function"
      ],
      "metadata": {
        "id": "PTGBoSwACrAy"
      }
    },
    {
      "cell_type": "code",
      "source": [
        "model.compile(optimizer='adam',\n",
        "              loss=tf.keras.losses.BinaryCrossentropy(from_logits=True),\n",
        "              metrics=['accuracy'])"
      ],
      "metadata": {
        "id": "J5B8H-ckCwMS"
      },
      "execution_count": null,
      "outputs": []
    },
    {
      "cell_type": "code",
      "source": [
        "model.summary()"
      ],
      "metadata": {
        "colab": {
          "base_uri": "https://localhost:8080/"
        },
        "id": "UbPAPglDCz16",
        "outputId": "9de3b032-6fc0-4ff6-d269-b8f701b71c35"
      },
      "execution_count": null,
      "outputs": [
        {
          "output_type": "stream",
          "name": "stdout",
          "text": [
            "Model: \"sequential_7\"\n",
            "_________________________________________________________________\n",
            " Layer (type)                Output Shape              Param #   \n",
            "=================================================================\n",
            " conv2d_8 (Conv2D)           (None, 150, 150, 16)      448       \n",
            "                                                                 \n",
            " max_pooling2d_7 (MaxPooling  (None, 75, 75, 16)       0         \n",
            " 2D)                                                             \n",
            "                                                                 \n",
            " conv2d_9 (Conv2D)           (None, 75, 75, 32)        4640      \n",
            "                                                                 \n",
            " max_pooling2d_8 (MaxPooling  (None, 37, 37, 32)       0         \n",
            " 2D)                                                             \n",
            "                                                                 \n",
            " conv2d_10 (Conv2D)          (None, 37, 37, 64)        18496     \n",
            "                                                                 \n",
            " max_pooling2d_9 (MaxPooling  (None, 18, 18, 64)       0         \n",
            " 2D)                                                             \n",
            "                                                                 \n",
            " flatten_3 (Flatten)         (None, 20736)             0         \n",
            "                                                                 \n",
            " dense_4 (Dense)             (None, 512)               10617344  \n",
            "                                                                 \n",
            " dense_5 (Dense)             (None, 1)                 513       \n",
            "                                                                 \n",
            "=================================================================\n",
            "Total params: 10,641,441\n",
            "Trainable params: 10,641,441\n",
            "Non-trainable params: 0\n",
            "_________________________________________________________________\n"
          ]
        }
      ]
    },
    {
      "cell_type": "code",
      "source": [
        "history = model.fit_generator(\n",
        "    train_data_gen,\n",
        "    steps_per_epoch=total_train // batch_size,\n",
        "    epochs=epochs,\n",
        "    validation_data=val_data_gen,\n",
        "    validation_steps=total_val // batch_size\n",
        ")"
      ],
      "metadata": {
        "colab": {
          "base_uri": "https://localhost:8080/"
        },
        "id": "EyBFohHCDBvX",
        "outputId": "e070b39d-774a-41ae-df21-88e1cfbde6c7"
      },
      "execution_count": null,
      "outputs": [
        {
          "output_type": "stream",
          "name": "stderr",
          "text": [
            "/usr/local/lib/python3.7/dist-packages/ipykernel_launcher.py:6: UserWarning: `Model.fit_generator` is deprecated and will be removed in a future version. Please use `Model.fit`, which supports generators.\n",
            "  \n"
          ]
        },
        {
          "output_type": "stream",
          "name": "stdout",
          "text": [
            "Epoch 1/15\n",
            "15/15 [==============================] - 50s 3s/step - loss: 1.2791 - accuracy: 0.5134 - val_loss: 0.6949 - val_accuracy: 0.5022\n",
            "Epoch 2/15\n",
            "15/15 [==============================] - 49s 3s/step - loss: 0.6893 - accuracy: 0.5000 - val_loss: 0.6834 - val_accuracy: 0.5067\n",
            "Epoch 3/15\n",
            "15/15 [==============================] - 48s 3s/step - loss: 0.6706 - accuracy: 0.5112 - val_loss: 0.6520 - val_accuracy: 0.5346\n",
            "Epoch 4/15\n",
            "15/15 [==============================] - 48s 3s/step - loss: 0.6405 - accuracy: 0.5897 - val_loss: 0.6395 - val_accuracy: 0.6283\n",
            "Epoch 5/15\n",
            "15/15 [==============================] - 49s 3s/step - loss: 0.5946 - accuracy: 0.6757 - val_loss: 0.6202 - val_accuracy: 0.5949\n",
            "Epoch 6/15\n",
            "15/15 [==============================] - 48s 3s/step - loss: 0.5536 - accuracy: 0.6998 - val_loss: 0.5805 - val_accuracy: 0.6741\n",
            "Epoch 7/15\n",
            "15/15 [==============================] - 48s 3s/step - loss: 0.5155 - accuracy: 0.7409 - val_loss: 0.5678 - val_accuracy: 0.6808\n",
            "Epoch 8/15\n",
            "15/15 [==============================] - 49s 3s/step - loss: 0.4776 - accuracy: 0.7607 - val_loss: 0.6096 - val_accuracy: 0.6406\n",
            "Epoch 9/15\n",
            "15/15 [==============================] - 48s 3s/step - loss: 0.4163 - accuracy: 0.7949 - val_loss: 0.5905 - val_accuracy: 0.6920\n",
            "Epoch 10/15\n",
            "15/15 [==============================] - 49s 3s/step - loss: 0.3768 - accuracy: 0.8216 - val_loss: 0.5825 - val_accuracy: 0.7121\n",
            "Epoch 11/15\n",
            "15/15 [==============================] - 48s 3s/step - loss: 0.3756 - accuracy: 0.8232 - val_loss: 0.6478 - val_accuracy: 0.7020\n",
            "Epoch 12/15\n",
            "15/15 [==============================] - 48s 3s/step - loss: 0.3297 - accuracy: 0.8547 - val_loss: 0.6196 - val_accuracy: 0.7042\n",
            "Epoch 13/15\n",
            "15/15 [==============================] - 49s 3s/step - loss: 0.2700 - accuracy: 0.8819 - val_loss: 0.6439 - val_accuracy: 0.7065\n",
            "Epoch 14/15\n",
            "15/15 [==============================] - 58s 4s/step - loss: 0.2268 - accuracy: 0.9038 - val_loss: 0.6691 - val_accuracy: 0.6987\n",
            "Epoch 15/15\n",
            "15/15 [==============================] - 48s 3s/step - loss: 0.1816 - accuracy: 0.9247 - val_loss: 0.7278 - val_accuracy: 0.7009\n"
          ]
        }
      ]
    },
    {
      "cell_type": "code",
      "source": [
        "acc = history.history['accuracy']\n",
        "val_acc = history.history['val_accuracy']\n",
        "\n",
        "loss=history.history['loss']\n",
        "val_loss=history.history['val_loss']\n",
        "\n",
        "epochs_range = range(epochs)\n",
        "\n",
        "plt.figure(figsize=(8, 8))\n",
        "plt.subplot(1, 2, 1)\n",
        "plt.plot(epochs_range, acc, label='Training Accuracy')\n",
        "plt.plot(epochs_range, val_acc, label='Validation Accuracy')\n",
        "plt.legend(loc='lower right')\n",
        "plt.title('Training and Validation Accuracy')\n",
        "\n",
        "plt.subplot(1, 2, 2)\n",
        "plt.plot(epochs_range, loss, label='Training Loss')\n",
        "plt.plot(epochs_range, val_loss, label='Validation Loss')\n",
        "plt.legend(loc='upper right')\n",
        "plt.title('Training and Validation Loss')\n",
        "plt.show()"
      ],
      "metadata": {
        "colab": {
          "base_uri": "https://localhost:8080/",
          "height": 499
        },
        "id": "HZXKcSzHGXHg",
        "outputId": "793dea02-b7ed-4cc6-a2ba-d5a9823e557b"
      },
      "execution_count": null,
      "outputs": [
        {
          "output_type": "display_data",
          "data": {
            "text/plain": [
              "<Figure size 576x576 with 2 Axes>"
            ],
            "image/png": "[encoded data removed]"
          },
          "metadata": {
            "needs_background": "light"
          }
        }
      ]
    }
  ]
}